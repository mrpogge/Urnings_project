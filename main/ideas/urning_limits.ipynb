{
 "cells": [
  {
   "cell_type": "code",
   "execution_count": 1,
   "metadata": {},
   "outputs": [],
   "source": [
    "import numpy as np\n",
    "import pandas as pd\n",
    "import matplotlib.pyplot as plt\n",
    "#importing the urnings algortihm\n",
    "import main_urnings as mu"
   ]
  },
  {
   "cell_type": "code",
   "execution_count": 2,
   "metadata": {},
   "outputs": [],
   "source": [
    "#np.random.seed(12312312)\n",
    "#game settings\n",
    "n_player = 5000\n",
    "n_items = 1000\n",
    "starting_score = 5\n",
    "player_urn_sizes = 10\n",
    "item_urn_sizes = 100\n",
    "n_sim = 100\n",
    "\n",
    "#true scores for players and items\n",
    "item_true_values = np.random.uniform(0.1, 0.9, n_items)\n",
    "\n",
    "#creating players and items\n",
    "players = []\n",
    "for i in range(n_player):\n",
    "    player = mu.Player(user_id = \"Student\", score = starting_score, urn_size = player_urn_sizes, true_value = 0.5, so_score=10)\n",
    "    players.append(player)\n",
    "\n",
    "items = []\n",
    "for i in range(n_items):\n",
    "    iname = \"item\" + str(i)\n",
    "\n",
    "    item = mu.Player(user_id = iname, score = np.round(item_true_values[i], 1) * item_urn_sizes, urn_size = item_urn_sizes, true_value = item_true_values[i])\n",
    "    items.append(item)\n",
    "\n",
    "\n",
    "adaptive_rule = mu.Game_Type(adaptivity=\"n_adaptive\", alg_type=\"Urnings2\")\n",
    "adaptive_sim = mu.Urnings(players = players, items = items, game_type=adaptive_rule)"
   ]
  },
  {
   "cell_type": "code",
   "execution_count": 3,
   "metadata": {},
   "outputs": [],
   "source": [
    "adaptive_sim.play(n_games=n_sim, test = True)"
   ]
  },
  {
   "cell_type": "code",
   "execution_count": 4,
   "metadata": {},
   "outputs": [
    {
     "name": "stdout",
     "output_type": "stream",
     "text": [
      "[[0.5 0.5 0.5 ... 0.2 0.2 0.3]\n",
      " [0.5 0.4 0.4 ... 0.2 0.2 0.2]\n",
      " [0.5 0.5 0.5 ... 0.3 0.4 0.4]\n",
      " ...\n",
      " [0.5 0.6 0.6 ... 0.3 0.2 0.2]\n",
      " [0.5 0.5 0.4 ... 0.7 0.7 0.7]\n",
      " [0.5 0.5 0.5 ... 0.6 0.6 0.6]]\n"
     ]
    }
   ],
   "source": [
    "urnings_matrix = np.zeros((n_player, n_sim + 1))\n",
    "for pl in range(n_player):\n",
    "    row = players[pl].container\n",
    "    urnings_matrix[pl,:] = row\n",
    "\n",
    "\n",
    "print(urnings_matrix / player_urn_sizes)\n",
    "\n",
    "np.savetxt(\"urnings_matrix_5_10_nochange.csv\", urnings_matrix, delimiter=\",\")"
   ]
  },
  {
   "cell_type": "code",
   "execution_count": 5,
   "metadata": {},
   "outputs": [
    {
     "data": {
      "text/plain": [
       "[<matplotlib.lines.Line2D at 0x7f85c9277850>]"
      ]
     },
     "execution_count": 5,
     "metadata": {},
     "output_type": "execute_result"
    },
    {
     "data": {
      "image/png": "[encoded data removed]",
      "text/plain": [
       "<Figure size 432x288 with 1 Axes>"
      ]
     },
     "metadata": {
      "needs_background": "light"
     },
     "output_type": "display_data"
    }
   ],
   "source": [
    "col_means = np.mean(urnings_matrix, axis = 0) / player_urn_sizes\n",
    "col_var = np.std(urnings_matrix, axis = 0) / np.sqrt(n_player)\n",
    "\n",
    "col_lower = np.zeros(len(col_means))\n",
    "col_upper = np.zeros(len(col_means))\n",
    "for i in range(len(col_means)):\n",
    "    confint = np.percentile(urnings_matrix[:,i] / player_urn_sizes, [5, 95])\n",
    "    col_lower[i] = confint[0]\n",
    "    col_upper[i] = confint[1]\n",
    "\n",
    "\n",
    "x = np.linspace(0, 101, 101)\n",
    "\n",
    "plt.plot(np.repeat(0.5, len(col_means)))\n",
    "plt.plot(x,col_means)\n",
    "#plt.fill_between(x, col_upper, col_lower)\n"
   ]
  },
  {
   "cell_type": "code",
   "execution_count": 16,
   "metadata": {},
   "outputs": [],
   "source": [
    "#np.random.seed(12312312)\n",
    "#game settings\n",
    "n_player = 5000\n",
    "n_items = 1000\n",
    "starting_score = 5\n",
    "player_urn_sizes = 10\n",
    "item_urn_sizes = 100\n",
    "n_sim = 100\n",
    "\n",
    "#true scores for players and items\n",
    "item_true_values = np.random.uniform(0.1, 0.9, n_items)\n",
    "\n",
    "#creating players and items\n",
    "players = []\n",
    "for i in range(n_player):\n",
    "    player = mu.Player(user_id = \"Student\", score = starting_score, urn_size = player_urn_sizes, true_value = 0.5, so_score=10)\n",
    "    players.append(player)\n",
    "\n",
    "items = []\n",
    "for i in range(n_items):\n",
    "    iname = \"item\" + str(i)\n",
    "    item_starting_score = np.random.binomial(item_urn_sizes, item_true_values[i])\n",
    "    item = mu.Player(user_id = iname, score = item_starting_score, urn_size = item_urn_sizes, true_value = item_true_values[i])\n",
    "    items.append(item)\n",
    "\n",
    "\n",
    "adaptive_rule = mu.Game_Type(adaptivity=\"adaptive\", alg_type=\"Urnings2\")\n",
    "adaptive_sim = mu.Urnings(players = players, items = items, game_type=adaptive_rule)"
   ]
  },
  {
   "cell_type": "code",
   "execution_count": 17,
   "metadata": {},
   "outputs": [],
   "source": [
    "growth = np.zeros(n_sim)\n",
    "for i in range(n_sim):\n",
    "    adaptive_sim.play(n_games=1, test = True)\n",
    "    growth[i] = players[0].true_value\n",
    "    for pl in players:\n",
    "        pl.true_value += 0.0001\n",
    "        "
   ]
  },
  {
   "cell_type": "code",
   "execution_count": 8,
   "metadata": {},
   "outputs": [
    {
     "name": "stdout",
     "output_type": "stream",
     "text": [
      "[[0.5 0.5 0.6 ... 0.4 0.5 0.4]\n",
      " [0.5 0.5 0.5 ... 0.4 0.5 0.6]\n",
      " [0.5 0.5 0.5 ... 0.5 0.6 0.7]\n",
      " ...\n",
      " [0.5 0.5 0.5 ... 0.7 0.8 0.8]\n",
      " [0.5 0.4 0.4 ... 0.5 0.5 0.4]\n",
      " [0.5 0.5 0.5 ... 0.4 0.5 0.4]]\n"
     ]
    }
   ],
   "source": [
    "urnings_matrix = np.zeros((n_player, n_sim + 1))\n",
    "for pl in range(n_player):\n",
    "    row = players[pl].container\n",
    "    urnings_matrix[pl,:] = row\n",
    "\n",
    "\n",
    "print(urnings_matrix / player_urn_sizes)\n",
    "\n",
    "np.savetxt(\"urnings_matrix_5_10_change.csv\", urnings_matrix, delimiter=\",\")"
   ]
  },
  {
   "cell_type": "code",
   "execution_count": 9,
   "metadata": {},
   "outputs": [
    {
     "data": {
      "text/plain": [
       "[<matplotlib.lines.Line2D at 0x7f85c91fbe80>]"
      ]
     },
     "execution_count": 9,
     "metadata": {},
     "output_type": "execute_result"
    },
    {
     "data": {
      "image/png": "[encoded data removed]",
      "text/plain": [
       "<Figure size 432x288 with 1 Axes>"
      ]
     },
     "metadata": {
      "needs_background": "light"
     },
     "output_type": "display_data"
    }
   ],
   "source": [
    "col_means = np.mean(urnings_matrix, axis = 0) / player_urn_sizes\n",
    "col_var = np.std(urnings_matrix, axis = 0) / np.sqrt(n_player)\n",
    "\n",
    "col_lower = np.zeros(len(col_means))\n",
    "col_upper = np.zeros(len(col_means))\n",
    "for i in range(len(col_means)):\n",
    "    confint = np.percentile(urnings_matrix[:,i] / player_urn_sizes, [10, 90])\n",
    "    col_lower[i] = confint[0]\n",
    "    col_upper[i] = confint[1]\n",
    "\n",
    "\n",
    "x = np.linspace(0, 101, 101)\n",
    "\n",
    "plt.plot(growth)\n",
    "plt.plot(x,col_means)\n",
    "#plt.fill_between(x, col_upper, col_lower)"
   ]
  },
  {
   "cell_type": "code",
   "execution_count": 172,
   "metadata": {},
   "outputs": [],
   "source": [
    "#np.random.seed(12312312)\n",
    "#game settings\n",
    "n_player = 100\n",
    "n_items = 100000\n",
    "starting_score = 6\n",
    "player_urn_sizes = 12\n",
    "item_urn_sizes = 100000\n",
    "n_sim = 100\n",
    "\n",
    "#true scores for players and items\n",
    "item_true_values = np.random.uniform(0.1, 0.9, n_items)\n",
    "\n",
    "#creating players and items\n",
    "players = []\n",
    "for i in range(n_player):\n",
    "    player = mu.Player(user_id = \"Student\", score = starting_score, urn_size = player_urn_sizes, true_value = 0.5, so_score=10)\n",
    "    players.append(player)\n",
    "\n",
    "items = []\n",
    "for i in range(n_items):\n",
    "    iname = \"item\" + str(i)\n",
    "\n",
    "    item = mu.Player(user_id = iname, score = np.round(item_true_values[i], 1) * item_urn_sizes, urn_size = item_urn_sizes, true_value = item_true_values[i])\n",
    "    items.append(item)\n",
    "\n",
    "\n",
    "adaptive_rule = mu.Game_Type(adaptivity=\"n_adaptive\", alg_type=\"Urnings1\")\n",
    "adaptive_sim = mu.Urnings(players = players, items = items, game_type=adaptive_rule)\n",
    "\n",
    "growth = np.zeros(n_sim)\n",
    "for i in range(n_sim):\n",
    "    adaptive_sim.play(n_games=1, test = True)\n",
    "    growth[i] = players[0].true_value\n",
    "\n",
    "    if i % 40 == 0:\n",
    "        for pl in players:\n",
    "            pl.true_value += 0.025\n",
    "        "
   ]
  },
  {
   "cell_type": "code",
   "execution_count": 177,
   "metadata": {},
   "outputs": [
    {
     "name": "stdout",
     "output_type": "stream",
     "text": [
      "[[0.5        0.5        0.5        ... 0.66666667 0.66666667 0.66666667]\n",
      " [0.5        0.5        0.5        ... 0.5        0.5        0.5       ]\n",
      " [0.5        0.58333333 0.5        ... 0.41666667 0.41666667 0.41666667]\n",
      " ...\n",
      " [0.5        0.5        0.5        ... 0.75       0.75       0.75      ]\n",
      " [0.5        0.5        0.41666667 ... 0.5        0.58333333 0.66666667]\n",
      " [0.5        0.5        0.5        ... 0.16666667 0.25       0.25      ]]\n"
     ]
    },
    {
     "data": {
      "text/plain": [
       "[<matplotlib.lines.Line2D at 0x7fa68ae78eb0>]"
      ]
     },
     "execution_count": 177,
     "metadata": {},
     "output_type": "execute_result"
    },
    {
     "data": {
      "image/png": "[encoded data removed]",
      "text/plain": [
       "<Figure size 432x288 with 1 Axes>"
      ]
     },
     "metadata": {
      "needs_background": "light"
     },
     "output_type": "display_data"
    }
   ],
   "source": [
    "urnings_matrix = np.zeros((n_player, n_sim + 1))\n",
    "for pl in range(n_player):\n",
    "    row = players[pl].container\n",
    "    urnings_matrix[pl,:] = row\n",
    "\n",
    "\n",
    "print(urnings_matrix / player_urn_sizes)\n",
    "\n",
    "np.savetxt(\"urnings_matrix_5_10_dischange.csv\", urnings_matrix, delimiter=\",\")\n",
    "\n",
    "col_means = np.mean(urnings_matrix, axis = 0) / player_urn_sizes\n",
    "col_var = np.std(urnings_matrix, axis = 0) / np.sqrt(n_player)\n",
    "\n",
    "col_lower = np.zeros(len(col_means))\n",
    "col_upper = np.zeros(len(col_means))\n",
    "for i in range(len(col_means)):\n",
    "    confint = np.percentile(urnings_matrix[:,i] / player_urn_sizes, [10, 90])\n",
    "    col_lower[i] = confint[0]\n",
    "    col_upper[i] = confint[1]\n",
    "\n",
    "\n",
    "x = np.linspace(0, 101, 101)\n",
    "\n",
    "plt.plot(growth)\n",
    "plt.plot(x,col_means)\n",
    "plt.plot(x, urnings_matrix[2,:] / player_urn_sizes)\n",
    "#plt.fill_between(x, col_upper, col_lower)"
   ]
  },
  {
   "cell_type": "code",
   "execution_count": 3,
   "metadata": {},
   "outputs": [],
   "source": [
    "import numpy as np\n",
    "import pandas as pd\n",
    "import matplotlib.pyplot as plt\n",
    "\n",
    "#importing the urnings algortihm\n",
    "import main_urnings as mu\n",
    "\n",
    "#parameters\n",
    "player_urn_sizes = [6, 10, 14, 18, 50]\n",
    "change = [0.0001, 0.0005, 0.001, 0.002]\n",
    "\n",
    "#fixed parameters\n",
    "n_player = 10\n",
    "n_items = 1000\n",
    "item_urn_sizes = 100\n",
    "n_sim = 10\n",
    "true_value = 0.5\n",
    "\n",
    "#container for the results\n",
    "urnings_array = np.zeros((n_player, n_sim + 1, len(change) * len(player_urn_sizes)))\n",
    "\n",
    "counter = 0"
   ]
  }
 ],
 "metadata": {
  "interpreter": {
   "hash": "acdfce2a7b6a5bb75839e3f18fae0b258ff5673996bd2f8529465f1d5dd57f61"
  },
  "kernelspec": {
   "display_name": "Python 3.9.7 ('base')",
   "language": "python",
   "name": "python3"
  },
  "language_info": {
   "codemirror_mode": {
    "name": "ipython",
    "version": 3
   },
   "file_extension": ".py",
   "mimetype": "text/x-python",
   "name": "python",
   "nbconvert_exporter": "python",
   "pygments_lexer": "ipython3",
   "version": "3.9.7"
  },
  "orig_nbformat": 4
 },
 "nbformat": 4,
 "nbformat_minor": 2
}
