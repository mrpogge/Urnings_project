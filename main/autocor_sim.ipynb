{
 "cells": [
  {
   "cell_type": "code",
   "execution_count": 113,
   "metadata": {},
   "outputs": [],
   "source": [
    "import numpy as np\n",
    "import pandas as pd\n",
    "import matplotlib.pyplot as plt"
   ]
  },
  {
   "cell_type": "code",
   "execution_count": 114,
   "metadata": {},
   "outputs": [],
   "source": [
    "#importing the urnings algortihm\n",
    "import main_urnings as mu"
   ]
  },
  {
   "cell_type": "markdown",
   "metadata": {},
   "source": [
    "## Urnings 2 autocorrelation with one student (pi = 0.5)"
   ]
  },
  {
   "cell_type": "markdown",
   "metadata": {},
   "source": [
    "### Setting up the simulation"
   ]
  },
  {
   "cell_type": "code",
   "execution_count": 88,
   "metadata": {},
   "outputs": [],
   "source": [
    "#game settings\n",
    "n_player = 1\n",
    "n_items = 10\n",
    "starting_score = 50\n",
    "player_urn_sizes = 100\n",
    "item_urn_sizes = 100\n",
    "\n",
    "#true scores for players and items\n",
    "item_true_values = np.random.uniform(0, 1, n_items)\n",
    "\n",
    "#creating players and items\n",
    "\n",
    "player = mu.Player(user_id = \"Student\", score = starting_score, urn_size = player_urn_sizes, true_value = 0.5)\n",
    "\n",
    "items = []\n",
    "for i in range(n_items):\n",
    "    iname = \"item\" + str(i)\n",
    "\n",
    "    item = mu.Player(user_id = iname, score = starting_score, urn_size = item_urn_sizes, true_value = item_true_values[i])\n",
    "    items.append(item)\n"
   ]
  },
  {
   "cell_type": "markdown",
   "metadata": {},
   "source": [
    "### Setting up the game environment"
   ]
  },
  {
   "cell_type": "code",
   "execution_count": 89,
   "metadata": {},
   "outputs": [],
   "source": [
    "adaptive_rule = mu.Game_Type(adaptivity=\"n_adaptive\", alg_type=\"Urnings2\")\n",
    "adaptive_sim = mu.Urnings(players = [player], items = items, game_type=adaptive_rule)\n",
    "\n",
    "adaptive_sim.play(n_games=10000)\n"
   ]
  },
  {
   "cell_type": "markdown",
   "metadata": {},
   "source": [
    "### Calculating autocorrelation for the student"
   ]
  },
  {
   "cell_type": "code",
   "execution_count": 90,
   "metadata": {},
   "outputs": [
    {
     "name": "stdout",
     "output_type": "stream",
     "text": [
      "[1.         0.99065909 0.98136027 0.97208368 0.9628228  0.95375076\n",
      " 0.94454976 0.93536893 0.92597673 0.91692691 0.9079106  0.89904341\n",
      " 0.89033154 0.88162411 0.87303913 0.864632   0.85645165 0.84808485\n",
      " 0.84004265 0.83198949 0.82403178 0.816163   0.80828739 0.80019184\n",
      " 0.79248551 0.78510823 0.77765774 0.77042957 0.76344597 0.756618\n",
      " 0.74981878 0.74321521 0.73636471 0.72978544 0.72329956 0.71680447\n",
      " 0.71060938 0.70422723 0.69739804 0.69065779 0.68398185]\n"
     ]
    },
    {
     "name": "stderr",
     "output_type": "stream",
     "text": [
      "/Users/bencegergely/opt/anaconda3/lib/python3.9/site-packages/statsmodels/tsa/stattools.py:657: FutureWarning: The default number of lags is changing from 40 tomin(int(10 * np.log10(nobs)), nobs - 1) after 0.12is released. Set the number of lags to an integer to  silence this warning.\n",
      "  warnings.warn(\n",
      "/Users/bencegergely/opt/anaconda3/lib/python3.9/site-packages/statsmodels/tsa/stattools.py:667: FutureWarning: fft=True will become the default after the release of the 0.12 release of statsmodels. To suppress this warning, explicitly set fft=False.\n",
      "  warnings.warn(\n"
     ]
    }
   ],
   "source": [
    "acf = player.autocorrelation(lag = 20, plots=False)\n",
    "\n",
    "print(acf)"
   ]
  },
  {
   "cell_type": "code",
   "execution_count": 91,
   "metadata": {},
   "outputs": [
    {
     "name": "stdout",
     "output_type": "stream",
     "text": [
      "The estimated value of the player is:  [0.51] While the true value is:  0.5\n"
     ]
    }
   ],
   "source": [
    "print(\"The estimated value of the player is: \", player.est, \"While the true value is: \", 0.5)"
   ]
  },
  {
   "cell_type": "code",
   "execution_count": 92,
   "metadata": {},
   "outputs": [
    {
     "data": {
      "image/png": "[encoded data removed]",
      "text/plain": [
       "<Figure size 432x288 with 1 Axes>"
      ]
     },
     "metadata": {
      "needs_background": "light"
     },
     "output_type": "display_data"
    }
   ],
   "source": [
    "plt.plot(player.container)\n",
    "plt.show()"
   ]
  },
  {
   "cell_type": "markdown",
   "metadata": {},
   "source": [
    "## Urnings 2 with multiple students"
   ]
  },
  {
   "cell_type": "markdown",
   "metadata": {},
   "source": [
    "### Setting up the simulation"
   ]
  },
  {
   "cell_type": "code",
   "execution_count": 97,
   "metadata": {},
   "outputs": [],
   "source": [
    "#game settings\n",
    "n_player = 10\n",
    "n_items = 20\n",
    "starting_score = 50\n",
    "player_urn_sizes = 100\n",
    "item_urn_sizes = 100\n",
    "\n",
    "#true scores for players and items\n",
    "player_true_scores = np.append(np.array([0.5]), np.random.normal(0, 1, n_player - 1))\n",
    "item_true_scores = np.random.uniform(0, 1, n_items)\n",
    "player_true_scores = np.exp(player_true_scores) / (1 + np.exp(player_true_scores)) \n",
    "\n",
    "#creating players and items\n",
    "players = []\n",
    "items = []\n",
    "for i in range(n_player):\n",
    "    pname = \"player\" + str(i)\n",
    "    \n",
    "    player = mu.Player(user_id = pname, score = starting_score, urn_size = player_urn_sizes, true_value = player_true_scores[i])\n",
    "    players.append(player)\n",
    "\n",
    "for i in range(n_items):\n",
    "    iname = \"item\" + str(i)\n",
    "\n",
    "    item = mu.Player(user_id = iname, score = int(np.round(item_true_scores[i] * item_urn_sizes)), urn_size = item_urn_sizes, true_value = item_true_scores[i])\n",
    "    items.append(item)\n"
   ]
  },
  {
   "cell_type": "markdown",
   "metadata": {},
   "source": [
    "### Setting up game environment"
   ]
  },
  {
   "cell_type": "code",
   "execution_count": 98,
   "metadata": {},
   "outputs": [],
   "source": [
    "adaptive_rule = mu.Game_Type(adaptivity=\"n_adaptive\", alg_type=\"Urnings2\")\n",
    "adaptive_sim = mu.Urnings(players = players, items = items, game_type=adaptive_rule)\n",
    "\n",
    "adaptive_sim.play(n_games=5000)"
   ]
  },
  {
   "cell_type": "code",
   "execution_count": 110,
   "metadata": {},
   "outputs": [
    {
     "name": "stdout",
     "output_type": "stream",
     "text": [
      "[1.         0.98571724 0.97239562 0.95754806 0.94336904 0.92831223\n",
      " 0.91390357 0.89817822 0.88186768 0.86672752 0.85223551 0.8380361\n",
      " 0.82406633 0.81024286 0.79466381 0.78010885 0.76716317 0.75444714\n",
      " 0.74150146 0.73052061 0.71780458 0.70450335 0.69134842 0.67846569\n",
      " 0.66361813 0.64847798 0.63087114 0.61288836 0.59337965 0.57466538\n",
      " 0.55492702 0.5370072  0.51850218 0.50196199 0.48491996 0.46917422\n",
      " 0.45328218 0.43856052 0.42419442 0.40895053 0.39602701]\n",
      "The estimated value of the player is:  [0.54] While the true value is:  0.6224593312018546\n"
     ]
    },
    {
     "name": "stderr",
     "output_type": "stream",
     "text": [
      "/Users/bencegergely/opt/anaconda3/lib/python3.9/site-packages/statsmodels/tsa/stattools.py:657: FutureWarning: The default number of lags is changing from 40 tomin(int(10 * np.log10(nobs)), nobs - 1) after 0.12is released. Set the number of lags to an integer to  silence this warning.\n",
      "  warnings.warn(\n",
      "/Users/bencegergely/opt/anaconda3/lib/python3.9/site-packages/statsmodels/tsa/stattools.py:667: FutureWarning: fft=True will become the default after the release of the 0.12 release of statsmodels. To suppress this warning, explicitly set fft=False.\n",
      "  warnings.warn(\n"
     ]
    },
    {
     "data": {
      "image/png": "[encoded data removed]",
      "text/plain": [
       "<Figure size 432x288 with 1 Axes>"
      ]
     },
     "metadata": {
      "needs_background": "light"
     },
     "output_type": "display_data"
    }
   ],
   "source": [
    "acf_2 = players[0].autocorrelation(lag = 30, plots=True)\n",
    "\n",
    "print(acf_2)\n",
    "\n",
    "print(\"The estimated value of the player is: \", players[0].est, \"While the true value is: \", player_true_scores[0])\n"
   ]
  },
  {
   "cell_type": "code",
   "execution_count": 112,
   "metadata": {},
   "outputs": [
    {
     "ename": "TypeError",
     "evalue": "autocorrelation() got an unexpected keyword argument 'so'",
     "output_type": "error",
     "traceback": [
      "\u001b[0;31m---------------------------------------------------------------------------\u001b[0m",
      "\u001b[0;31mTypeError\u001b[0m                                 Traceback (most recent call last)",
      "\u001b[0;32m/var/folders/80/5fffg6dx3rb7q3ffwrzchg7c0000gn/T/ipykernel_6960/4050736879.py\u001b[0m in \u001b[0;36m<module>\u001b[0;34m\u001b[0m\n\u001b[0;32m----> 1\u001b[0;31m \u001b[0macf_2_so\u001b[0m \u001b[0;34m=\u001b[0m \u001b[0mplayers\u001b[0m\u001b[0;34m[\u001b[0m\u001b[0;36m0\u001b[0m\u001b[0;34m]\u001b[0m\u001b[0;34m.\u001b[0m\u001b[0mautocorrelation\u001b[0m\u001b[0;34m(\u001b[0m\u001b[0mlag\u001b[0m \u001b[0;34m=\u001b[0m \u001b[0;36m30\u001b[0m\u001b[0;34m,\u001b[0m \u001b[0mplots\u001b[0m\u001b[0;34m=\u001b[0m\u001b[0;32mFalse\u001b[0m\u001b[0;34m,\u001b[0m \u001b[0mso\u001b[0m \u001b[0;34m=\u001b[0m \u001b[0;32mTrue\u001b[0m\u001b[0;34m)\u001b[0m\u001b[0;34m\u001b[0m\u001b[0;34m\u001b[0m\u001b[0m\n\u001b[0m\u001b[1;32m      2\u001b[0m \u001b[0;34m\u001b[0m\u001b[0m\n\u001b[1;32m      3\u001b[0m \u001b[0mprint\u001b[0m\u001b[0;34m(\u001b[0m\u001b[0macf_2_so\u001b[0m\u001b[0;34m)\u001b[0m\u001b[0;34m\u001b[0m\u001b[0;34m\u001b[0m\u001b[0m\n",
      "\u001b[0;31mTypeError\u001b[0m: autocorrelation() got an unexpected keyword argument 'so'"
     ]
    }
   ],
   "source": [
    "acf_2_so = players[0].autocorrelation(lag = 30, plots=False, so = True)\n",
    "\n",
    "print(acf_2_so)\n"
   ]
  },
  {
   "cell_type": "code",
   "execution_count": 104,
   "metadata": {},
   "outputs": [
    {
     "data": {
      "image/png": "[encoded data removed]",
      "text/plain": [
       "<Figure size 432x288 with 1 Axes>"
      ]
     },
     "metadata": {
      "needs_background": "light"
     },
     "output_type": "display_data"
    }
   ],
   "source": [
    "plt.plot(players[0].container)\n",
    "plt.show()"
   ]
  }
 ],
 "metadata": {
  "interpreter": {
   "hash": "acdfce2a7b6a5bb75839e3f18fae0b258ff5673996bd2f8529465f1d5dd57f61"
  },
  "kernelspec": {
   "display_name": "Python 3.9.7 ('base')",
   "language": "python",
   "name": "python3"
  },
  "language_info": {
   "codemirror_mode": {
    "name": "ipython",
    "version": 3
   },
   "file_extension": ".py",
   "mimetype": "text/x-python",
   "name": "python",
   "nbconvert_exporter": "python",
   "pygments_lexer": "ipython3",
   "version": "3.9.7"
  },
  "orig_nbformat": 4
 },
 "nbformat": 4,
 "nbformat_minor": 2
}
