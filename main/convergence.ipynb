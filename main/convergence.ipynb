{
 "cells": [
  {
   "cell_type": "code",
   "execution_count": 19,
   "metadata": {},
   "outputs": [],
   "source": [
    "import pandas as pd\n",
    "import numpy as np\n",
    "import matplotlib.pyplot as plt\n",
    "import scipy.stats as sp\n",
    "import statsmodels.api as sm\n",
    "from statsmodels.graphics import tsaplots\n",
    "\n",
    "import main_urnings as mu"
   ]
  },
  {
   "cell_type": "code",
   "execution_count": 20,
   "metadata": {},
   "outputs": [],
   "source": [
    "#game settings\n",
    "n_player = 1000\n",
    "n_items = 1000\n",
    "starting_score = 5\n",
    "player_urn_sizes = 10\n",
    "item_urn_sizes = 10000\n",
    "n_sim = 100\n",
    "\n",
    "#true scores for players and items\n",
    "item_true_values = np.random.uniform(0, 1, n_items)\n",
    "\n",
    "#creating players and items\n",
    "players = []\n",
    "for i in range(n_player):\n",
    "    player = mu.Player(user_id = \"Student\", score = starting_score, urn_size = player_urn_sizes, true_value = 0.2, so_score=10)\n",
    "    players.append(player)\n",
    "\n",
    "items = []\n",
    "for i in range(n_items):\n",
    "    iname = \"item\" + str(i)\n",
    "\n",
    "    item = mu.Player(user_id = iname, score = item_true_values[i] * item_urn_sizes, urn_size = item_urn_sizes, true_value = item_true_values[i])\n",
    "    items.append(item)\n",
    "\n",
    "\n",
    "adaptive_rule = mu.Game_Type(adaptivity=\"n_adaptive\", alg_type=\"Urnings2\")\n",
    "adaptive_sim = mu.Urnings(players = players, items = items, game_type=adaptive_rule)"
   ]
  },
  {
   "cell_type": "code",
   "execution_count": 21,
   "metadata": {},
   "outputs": [],
   "source": [
    "adaptive_sim.play(n_games=n_sim, test = True)"
   ]
  },
  {
   "cell_type": "code",
   "execution_count": 23,
   "metadata": {},
   "outputs": [
    {
     "data": {
      "image/png": "[encoded data removed]",
      "text/plain": [
       "<Figure size 432x288 with 1 Axes>"
      ]
     },
     "metadata": {
      "needs_background": "light"
     },
     "output_type": "display_data"
    }
   ],
   "source": [
    "urnings_matrix = np.zeros((n_player, n_sim))\n",
    "\n",
    "for pl in range(n_player):\n",
    "    row = players[pl].container[1:]\n",
    "    urnings_matrix[pl,:] = row\n",
    "\n",
    "plt.hist(urnings_matrix[:,8])\n",
    "\n",
    "np.savetxt(\"urnings_matrix.csv\", urnings_matrix, delimiter=\",\")"
   ]
  }
 ],
 "metadata": {
  "interpreter": {
   "hash": "acdfce2a7b6a5bb75839e3f18fae0b258ff5673996bd2f8529465f1d5dd57f61"
  },
  "kernelspec": {
   "display_name": "Python 3.9.7 ('base')",
   "language": "python",
   "name": "python3"
  },
  "language_info": {
   "codemirror_mode": {
    "name": "ipython",
    "version": 3
   },
   "file_extension": ".py",
   "mimetype": "text/x-python",
   "name": "python",
   "nbconvert_exporter": "python",
   "pygments_lexer": "ipython3",
   "version": "3.9.7"
  },
  "orig_nbformat": 4
 },
 "nbformat": 4,
 "nbformat_minor": 2
}
