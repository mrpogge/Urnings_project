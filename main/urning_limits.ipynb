{
 "cells": [
  {
   "cell_type": "code",
   "execution_count": 2,
   "metadata": {},
   "outputs": [],
   "source": [
    "import numpy as np\n",
    "import pandas as pd\n",
    "import matplotlib.pyplot as plt\n",
    "#importing the urnings algortihm\n",
    "import main_urnings as mu"
   ]
  },
  {
   "cell_type": "code",
   "execution_count": 115,
   "metadata": {},
   "outputs": [],
   "source": [
    "#np.random.seed(12312312)\n",
    "#game settings\n",
    "n_player = 100\n",
    "n_items = 100000\n",
    "starting_score = 5\n",
    "player_urn_sizes = 10\n",
    "item_urn_sizes = 100000\n",
    "n_sim = 100\n",
    "\n",
    "#true scores for players and items\n",
    "item_true_values = np.random.uniform(0.1, 0.9, n_items)\n",
    "\n",
    "#creating players and items\n",
    "players = []\n",
    "for i in range(n_player):\n",
    "    player = mu.Player(user_id = \"Student\", score = starting_score, urn_size = player_urn_sizes, true_value = 0.5, so_score=10)\n",
    "    players.append(player)\n",
    "\n",
    "items = []\n",
    "for i in range(n_items):\n",
    "    iname = \"item\" + str(i)\n",
    "\n",
    "    item = mu.Player(user_id = iname, score = np.round(item_true_values[i], 1) * item_urn_sizes, urn_size = item_urn_sizes, true_value = item_true_values[i])\n",
    "    items.append(item)\n",
    "\n",
    "\n",
    "adaptive_rule = mu.Game_Type(adaptivity=\"n_adaptive\", alg_type=\"Urnings1\")\n",
    "adaptive_sim = mu.Urnings(players = players, items = items, game_type=adaptive_rule)"
   ]
  },
  {
   "cell_type": "code",
   "execution_count": 116,
   "metadata": {},
   "outputs": [],
   "source": [
    "adaptive_sim.play(n_games=n_sim, test = True)"
   ]
  },
  {
   "cell_type": "code",
   "execution_count": 117,
   "metadata": {},
   "outputs": [
    {
     "name": "stdout",
     "output_type": "stream",
     "text": [
      "[[0.5 0.6 0.6 ... 0.8 0.7 0.6]\n",
      " [0.5 0.5 0.6 ... 0.6 0.5 0.5]\n",
      " [0.5 0.5 0.5 ... 0.5 0.5 0.5]\n",
      " ...\n",
      " [0.5 0.6 0.6 ... 0.5 0.5 0.5]\n",
      " [0.5 0.5 0.5 ... 0.1 0.2 0.1]\n",
      " [0.5 0.5 0.5 ... 0.4 0.5 0.5]]\n"
     ]
    }
   ],
   "source": [
    "urnings_matrix = np.zeros((n_player, n_sim + 1))\n",
    "for pl in range(n_player):\n",
    "    row = players[pl].container\n",
    "    urnings_matrix[pl,:] = row\n",
    "\n",
    "\n",
    "print(urnings_matrix / player_urn_sizes)\n",
    "\n",
    "np.savetxt(\"urnings_matrix_5_10_nochange.csv\", urnings_matrix, delimiter=\",\")"
   ]
  },
  {
   "cell_type": "code",
   "execution_count": 120,
   "metadata": {},
   "outputs": [
    {
     "data": {
      "text/plain": [
       "[<matplotlib.lines.Line2D at 0x7fa678f1cd90>]"
      ]
     },
     "execution_count": 120,
     "metadata": {},
     "output_type": "execute_result"
    },
    {
     "data": {
      "image/png": "[encoded data removed]",
      "text/plain": [
       "<Figure size 432x288 with 1 Axes>"
      ]
     },
     "metadata": {
      "needs_background": "light"
     },
     "output_type": "display_data"
    }
   ],
   "source": [
    "col_means = np.mean(urnings_matrix, axis = 0) / player_urn_sizes\n",
    "col_var = np.std(urnings_matrix, axis = 0) / np.sqrt(n_player)\n",
    "\n",
    "col_lower = np.zeros(len(col_means))\n",
    "col_upper = np.zeros(len(col_means))\n",
    "for i in range(len(col_means)):\n",
    "    confint = np.percentile(urnings_matrix[:,i] / player_urn_sizes, [5, 95])\n",
    "    col_lower[i] = confint[0]\n",
    "    col_upper[i] = confint[1]\n",
    "\n",
    "\n",
    "x = np.linspace(0, 101, 101)\n",
    "\n",
    "plt.plot(np.repeat(0.5, len(col_means)))\n",
    "plt.plot(x,col_means)\n",
    "#plt.fill_between(x, col_upper, col_lower)\n"
   ]
  },
  {
   "cell_type": "code",
   "execution_count": 153,
   "metadata": {},
   "outputs": [],
   "source": [
    "#np.random.seed(12312312)\n",
    "#game settings\n",
    "n_player = 100\n",
    "n_items = 100000\n",
    "starting_score = 5\n",
    "player_urn_sizes = 10\n",
    "item_urn_sizes = 100000\n",
    "n_sim = 100\n",
    "\n",
    "#true scores for players and items\n",
    "item_true_values = np.random.uniform(0.1, 0.9, n_items)\n",
    "\n",
    "#creating players and items\n",
    "players = []\n",
    "for i in range(n_player):\n",
    "    player = mu.Player(user_id = \"Student\", score = starting_score, urn_size = player_urn_sizes, true_value = 0.5, so_score=10)\n",
    "    players.append(player)\n",
    "\n",
    "items = []\n",
    "for i in range(n_items):\n",
    "    iname = \"item\" + str(i)\n",
    "\n",
    "    item = mu.Player(user_id = iname, score = np.round(item_true_values[i], 1) * item_urn_sizes, urn_size = item_urn_sizes, true_value = item_true_values[i])\n",
    "    items.append(item)\n",
    "\n",
    "\n",
    "adaptive_rule = mu.Game_Type(adaptivity=\"n_adaptive\", alg_type=\"Urnings1\")\n",
    "adaptive_sim = mu.Urnings(players = players, items = items, game_type=adaptive_rule)"
   ]
  },
  {
   "cell_type": "code",
   "execution_count": 154,
   "metadata": {},
   "outputs": [],
   "source": [
    "growth = np.zeros(n_sim)\n",
    "for i in range(n_sim):\n",
    "    adaptive_sim.play(n_games=1, test = True)\n",
    "    growth[i] = players[0].true_value\n",
    "    for pl in players:\n",
    "        pl.true_value += 0.0005\n",
    "        "
   ]
  },
  {
   "cell_type": "code",
   "execution_count": 155,
   "metadata": {},
   "outputs": [
    {
     "name": "stdout",
     "output_type": "stream",
     "text": [
      "[[0.5 0.5 0.4 ... 0.6 0.6 0.6]\n",
      " [0.5 0.4 0.5 ... 0.5 0.4 0.4]\n",
      " [0.5 0.4 0.5 ... 0.5 0.5 0.6]\n",
      " ...\n",
      " [0.5 0.5 0.4 ... 0.6 0.6 0.6]\n",
      " [0.5 0.5 0.6 ... 0.6 0.5 0.5]\n",
      " [0.5 0.5 0.5 ... 0.5 0.5 0.5]]\n"
     ]
    }
   ],
   "source": [
    "urnings_matrix = np.zeros((n_player, n_sim + 1))\n",
    "for pl in range(n_player):\n",
    "    row = players[pl].container\n",
    "    urnings_matrix[pl,:] = row\n",
    "\n",
    "\n",
    "print(urnings_matrix / player_urn_sizes)\n",
    "\n",
    "np.savetxt(\"urnings_matrix_5_10_change.csv\", urnings_matrix, delimiter=\",\")"
   ]
  },
  {
   "cell_type": "code",
   "execution_count": 156,
   "metadata": {},
   "outputs": [
    {
     "data": {
      "text/plain": [
       "[<matplotlib.lines.Line2D at 0x7fa6601ff8e0>]"
      ]
     },
     "execution_count": 156,
     "metadata": {},
     "output_type": "execute_result"
    },
    {
     "data": {
      "image/png": "[encoded data removed]",
      "text/plain": [
       "<Figure size 432x288 with 1 Axes>"
      ]
     },
     "metadata": {
      "needs_background": "light"
     },
     "output_type": "display_data"
    }
   ],
   "source": [
    "col_means = np.mean(urnings_matrix, axis = 0) / player_urn_sizes\n",
    "col_var = np.std(urnings_matrix, axis = 0) / np.sqrt(n_player)\n",
    "\n",
    "col_lower = np.zeros(len(col_means))\n",
    "col_upper = np.zeros(len(col_means))\n",
    "for i in range(len(col_means)):\n",
    "    confint = np.percentile(urnings_matrix[:,i] / player_urn_sizes, [10, 90])\n",
    "    col_lower[i] = confint[0]\n",
    "    col_upper[i] = confint[1]\n",
    "\n",
    "\n",
    "x = np.linspace(0, 101, 101)\n",
    "\n",
    "plt.plot(growth)\n",
    "plt.plot(x,col_means)\n",
    "#plt.fill_between(x, col_upper, col_lower)"
   ]
  },
  {
   "cell_type": "code",
   "execution_count": 172,
   "metadata": {},
   "outputs": [],
   "source": [
    "#np.random.seed(12312312)\n",
    "#game settings\n",
    "n_player = 100\n",
    "n_items = 100000\n",
    "starting_score = 6\n",
    "player_urn_sizes = 12\n",
    "item_urn_sizes = 100000\n",
    "n_sim = 100\n",
    "\n",
    "#true scores for players and items\n",
    "item_true_values = np.random.uniform(0.1, 0.9, n_items)\n",
    "\n",
    "#creating players and items\n",
    "players = []\n",
    "for i in range(n_player):\n",
    "    player = mu.Player(user_id = \"Student\", score = starting_score, urn_size = player_urn_sizes, true_value = 0.5, so_score=10)\n",
    "    players.append(player)\n",
    "\n",
    "items = []\n",
    "for i in range(n_items):\n",
    "    iname = \"item\" + str(i)\n",
    "\n",
    "    item = mu.Player(user_id = iname, score = np.round(item_true_values[i], 1) * item_urn_sizes, urn_size = item_urn_sizes, true_value = item_true_values[i])\n",
    "    items.append(item)\n",
    "\n",
    "\n",
    "adaptive_rule = mu.Game_Type(adaptivity=\"n_adaptive\", alg_type=\"Urnings1\")\n",
    "adaptive_sim = mu.Urnings(players = players, items = items, game_type=adaptive_rule)\n",
    "\n",
    "growth = np.zeros(n_sim)\n",
    "for i in range(n_sim):\n",
    "    adaptive_sim.play(n_games=1, test = True)\n",
    "    growth[i] = players[0].true_value\n",
    "\n",
    "    if i % 40 == 0:\n",
    "        for pl in players:\n",
    "            pl.true_value += 0.025\n",
    "        "
   ]
  },
  {
   "cell_type": "code",
   "execution_count": 177,
   "metadata": {},
   "outputs": [
    {
     "name": "stdout",
     "output_type": "stream",
     "text": [
      "[[0.5        0.5        0.5        ... 0.66666667 0.66666667 0.66666667]\n",
      " [0.5        0.5        0.5        ... 0.5        0.5        0.5       ]\n",
      " [0.5        0.58333333 0.5        ... 0.41666667 0.41666667 0.41666667]\n",
      " ...\n",
      " [0.5        0.5        0.5        ... 0.75       0.75       0.75      ]\n",
      " [0.5        0.5        0.41666667 ... 0.5        0.58333333 0.66666667]\n",
      " [0.5        0.5        0.5        ... 0.16666667 0.25       0.25      ]]\n"
     ]
    },
    {
     "data": {
      "text/plain": [
       "[<matplotlib.lines.Line2D at 0x7fa68ae78eb0>]"
      ]
     },
     "execution_count": 177,
     "metadata": {},
     "output_type": "execute_result"
    },
    {
     "data": {
      "image/png": "[encoded data removed]",
      "text/plain": [
       "<Figure size 432x288 with 1 Axes>"
      ]
     },
     "metadata": {
      "needs_background": "light"
     },
     "output_type": "display_data"
    }
   ],
   "source": [
    "urnings_matrix = np.zeros((n_player, n_sim + 1))\n",
    "for pl in range(n_player):\n",
    "    row = players[pl].container\n",
    "    urnings_matrix[pl,:] = row\n",
    "\n",
    "\n",
    "print(urnings_matrix / player_urn_sizes)\n",
    "\n",
    "np.savetxt(\"urnings_matrix_5_10_dischange.csv\", urnings_matrix, delimiter=\",\")\n",
    "\n",
    "col_means = np.mean(urnings_matrix, axis = 0) / player_urn_sizes\n",
    "col_var = np.std(urnings_matrix, axis = 0) / np.sqrt(n_player)\n",
    "\n",
    "col_lower = np.zeros(len(col_means))\n",
    "col_upper = np.zeros(len(col_means))\n",
    "for i in range(len(col_means)):\n",
    "    confint = np.percentile(urnings_matrix[:,i] / player_urn_sizes, [10, 90])\n",
    "    col_lower[i] = confint[0]\n",
    "    col_upper[i] = confint[1]\n",
    "\n",
    "\n",
    "x = np.linspace(0, 101, 101)\n",
    "\n",
    "plt.plot(growth)\n",
    "plt.plot(x,col_means)\n",
    "plt.plot(x, urnings_matrix[2,:] / player_urn_sizes)\n",
    "#plt.fill_between(x, col_upper, col_lower)"
   ]
  },
  {
   "cell_type": "code",
   "execution_count": 5,
   "metadata": {},
   "outputs": [
    {
     "data": {
      "text/plain": [
       "array([[[ 3.,  5.,  7.,  9., 25.,  3.,  5.,  7.,  9., 25.,  3.,  5.,\n",
       "          7.,  9., 25.,  3.,  5.,  7.,  9., 25.,  3.,  5.,  7.,  9.,\n",
       "         25.],\n",
       "        [ 3.,  5.,  7.,  9., 25.,  3.,  5.,  7.,  9., 25.,  3.,  5.,\n",
       "          7.,  9., 25.,  3.,  5.,  7.,  9., 25.,  3.,  5.,  7.,  9.,\n",
       "         25.],\n",
       "        [ 2.,  4.,  6.,  8., 24.,  3.,  5.,  7.,  9., 25.,  4.,  6.,\n",
       "          8., 10., 26.,  4.,  6.,  8., 10., 26.,  4.,  6.,  8., 10.,\n",
       "         26.],\n",
       "        [ 2.,  4.,  6.,  8., 24.,  3.,  5.,  7.,  9., 25.,  3.,  5.,\n",
       "          7.,  9., 25.,  5.,  7.,  9., 11., 27.,  5.,  7.,  9., 11.,\n",
       "         27.],\n",
       "        [ 2.,  4.,  6.,  8., 24.,  3.,  5.,  7.,  9., 25.,  3.,  5.,\n",
       "          7.,  9., 25.,  5.,  7.,  9., 11., 27.,  5.,  7.,  9., 11.,\n",
       "         27.],\n",
       "        [ 1.,  3.,  5.,  7., 23.,  3.,  5.,  7.,  9., 25.,  3.,  5.,\n",
       "          7.,  9., 25.,  5.,  7.,  9., 11., 27.,  5.,  7.,  9., 11.,\n",
       "         27.],\n",
       "        [ 1.,  3.,  5.,  7., 23.,  2.,  4.,  6.,  8., 24.,  3.,  5.,\n",
       "          7.,  9., 25.,  5.,  7.,  9., 11., 27.,  5.,  7.,  9., 11.,\n",
       "         27.],\n",
       "        [ 0.,  2.,  6.,  8., 23.,  2.,  4.,  6.,  8., 24.,  4.,  6.,\n",
       "          8., 10., 26.,  5.,  7.,  9., 11., 27.,  5.,  7.,  9., 11.,\n",
       "         27.],\n",
       "        [ 0.,  1.,  6.,  8., 23.,  2.,  4.,  6.,  8., 24.,  4.,  6.,\n",
       "          8., 10., 26.,  4.,  7.,  9., 11., 27.,  5.,  7.,  9., 11.,\n",
       "         27.],\n",
       "        [ 0.,  1.,  7.,  9., 23.,  2.,  4.,  6.,  8., 24.,  4.,  6.,\n",
       "          8., 10., 26.,  4.,  6., 10., 10., 28.,  5.,  8., 10., 12.,\n",
       "         28.],\n",
       "        [ 0.,  1.,  6.,  8., 23.,  2.,  4.,  5.,  7., 23.,  4.,  6.,\n",
       "          8., 10., 26.,  5.,  6., 10., 10., 28.,  5.,  9., 10., 13.,\n",
       "         28.]],\n",
       "\n",
       "       [[ 3.,  5.,  7.,  9., 25.,  3.,  5.,  7.,  9., 25.,  3.,  5.,\n",
       "          7.,  9., 25.,  3.,  5.,  7.,  9., 25.,  3.,  5.,  7.,  9.,\n",
       "         25.],\n",
       "        [ 2.,  4.,  6.,  8., 24.,  3.,  5.,  7.,  9., 25.,  3.,  5.,\n",
       "          7.,  9., 25.,  3.,  5.,  7.,  9., 25.,  3.,  5.,  7.,  9.,\n",
       "         25.],\n",
       "        [ 3.,  5.,  7.,  9., 25.,  3.,  5.,  7.,  9., 25.,  3.,  5.,\n",
       "          7.,  9., 25.,  3.,  5.,  7.,  9., 25.,  3.,  5.,  7.,  9.,\n",
       "         25.],\n",
       "        [ 3.,  5.,  7.,  9., 25.,  4.,  6.,  8., 10., 26.,  4.,  6.,\n",
       "          8., 10., 26.,  4.,  6.,  8., 10., 26.,  4.,  6.,  8., 10.,\n",
       "         26.],\n",
       "        [ 3.,  5.,  7.,  9., 25.,  4.,  6.,  8., 10., 26.,  5.,  7.,\n",
       "          9., 11., 27.,  5.,  7.,  9., 11., 27.,  5.,  7.,  9., 11.,\n",
       "         27.],\n",
       "        [ 2.,  4.,  6.,  8., 25.,  4.,  6.,  8., 10., 26.,  5.,  7.,\n",
       "          9., 11., 27.,  5.,  7.,  9., 12., 28.,  5.,  7.,  9., 12.,\n",
       "         28.],\n",
       "        [ 2.,  4.,  6.,  8., 25.,  4.,  6.,  8., 10., 26.,  5.,  7.,\n",
       "          9., 11., 27.,  5.,  7.,  9., 12., 28.,  5.,  7.,  9., 12.,\n",
       "         28.],\n",
       "        [ 2.,  4.,  7.,  9., 25.,  4.,  6.,  8., 10., 26.,  6.,  8.,\n",
       "         10., 12., 28.,  5.,  7.,  9., 12., 28.,  5.,  7., 10., 12.,\n",
       "         28.],\n",
       "        [ 2.,  4.,  7.,  9., 24.,  3.,  5.,  7.,  9., 25.,  6.,  8.,\n",
       "         10., 12., 28.,  5.,  6.,  9., 11., 28.,  5.,  6.,  9., 11.,\n",
       "         28.],\n",
       "        [ 2.,  4.,  7.,  9., 24.,  3.,  5.,  7.,  9., 25.,  5.,  7.,\n",
       "         10., 12., 28.,  5.,  6.,  9., 11., 28.,  5.,  6.,  9., 11.,\n",
       "         28.],\n",
       "        [ 2.,  4.,  7.,  9., 24.,  4.,  6.,  7.,  9., 25.,  5.,  7.,\n",
       "         10., 12., 28.,  5.,  6.,  9., 11., 28.,  6.,  6.,  9., 11.,\n",
       "         28.]]])"
      ]
     },
     "execution_count": 5,
     "metadata": {},
     "output_type": "execute_result"
    }
   ],
   "source": [
    "np.load(\"urnings_array_nochange.npy\")"
   ]
  }
 ],
 "metadata": {
  "interpreter": {
   "hash": "acdfce2a7b6a5bb75839e3f18fae0b258ff5673996bd2f8529465f1d5dd57f61"
  },
  "kernelspec": {
   "display_name": "Python 3.9.7 ('base')",
   "language": "python",
   "name": "python3"
  },
  "language_info": {
   "codemirror_mode": {
    "name": "ipython",
    "version": 3
   },
   "file_extension": ".py",
   "mimetype": "text/x-python",
   "name": "python",
   "nbconvert_exporter": "python",
   "pygments_lexer": "ipython3",
   "version": "3.9.7"
  },
  "orig_nbformat": 4
 },
 "nbformat": 4,
 "nbformat_minor": 2
}
